{
  "nbformat": 4,
  "nbformat_minor": 0,
  "metadata": {
    "colab": {
      "name": "DEM_based_shadow.ipynb",
      "provenance": [],
      "mount_file_id": "1qF60EyGTNLGuPfwing6w3rbgIBTbNN2N",
      "authorship_tag": "ABX9TyOUucpUnQUazzaewKz9q/O3",
      "include_colab_link": true
    },
    "kernelspec": {
      "name": "python3",
      "display_name": "Python 3"
    },
    "language_info": {
      "name": "python"
    }
  },
  "cells": [
    {
      "cell_type": "markdown",
      "metadata": {
        "id": "view-in-github",
        "colab_type": "text"
      },
      "source": [
        "<a href=\"https://colab.research.google.com/github/prkim99/shadow-estimation-with-DEM/blob/main/DEM_based_shadow.ipynb\" target=\"_parent\"><img src=\"https://colab.research.google.com/assets/colab-badge.svg\" alt=\"Open In Colab\"/></a>"
      ]
    },
    {
      "cell_type": "code",
      "metadata": {
        "id": "fhKPY9D942SA"
      },
      "source": [
        "import numpy as np\n",
        "import rasterio as rio"
      ],
      "execution_count": 1,
      "outputs": []
    },
    {
      "cell_type": "code",
      "metadata": {
        "id": "ja87nkpD433_"
      },
      "source": [
        "dem=\"/content/drive/MyDrive/dem_shadow/dem_clip1.tif\""
      ],
      "execution_count": 2,
      "outputs": []
    },
    {
      "cell_type": "code",
      "metadata": {
        "id": "hmQHXf6P45e2"
      },
      "source": [
        "with rio.open(dem) as src:\n",
        "    elevation = src.read(1)\n",
        "    # Set masked values to np.nan\n",
        "    elevation[elevation < 0] = np.nan\n"
      ],
      "execution_count": 3,
      "outputs": []
    },
    {
      "cell_type": "code",
      "metadata": {
        "id": "RbUgUyW_5VVO"
      },
      "source": [
        "azimuth=153.6464670161 #sunAzimuth\n",
        "altitude=30.2071 #sunAltitude"
      ],
      "execution_count": 4,
      "outputs": []
    },
    {
      "cell_type": "code",
      "metadata": {
        "id": "kenLSyFh49rB"
      },
      "source": [
        "x, y = np.gradient(elevation)\n",
        "\n",
        "azimuth = 360.0 - azimuth\n",
        "azimuthrad = azimuth * np.pi / 180.0\n",
        "\n",
        "altituderad = altitude * np.pi / 180.0\n",
        "\n",
        "\n",
        "slope = np.pi / 2.0 - np.arctan(np.sqrt(x * x + y * y))\n",
        "aspect = np.arctan2(-x, y)\n",
        "\n",
        "shaded = np.sin(altituderad) * np.sin(slope) + np.cos(altituderad) * np.cos(slope) * np.cos((azimuthrad - np.pi / 2.0) - aspect)\n",
        "\n",
        "shadow= 255 * (shaded + 1) / 2"
      ],
      "execution_count": 5,
      "outputs": []
    },
    {
      "cell_type": "code",
      "metadata": {
        "id": "720JUe5d5mI_"
      },
      "source": [
        "  with rio.open('exam.tif', 'w', driver='GTiff',\n",
        "    height=src.shape[0],\n",
        "    width=src.shape[1],\n",
        "    count=1,\n",
        "    crs=src.crs,\n",
        "    transform=src.transform,\n",
        "    dtype='float32') as dst:\n",
        "\n",
        "dst.write(shadow, 1)"
      ],
      "execution_count": 7,
      "outputs": []
    },
    {
      "cell_type": "code",
      "metadata": {
        "id": "clV6nzHM6Vgk"
      },
      "source": [
        ""
      ],
      "execution_count": null,
      "outputs": []
    }
  ]
}